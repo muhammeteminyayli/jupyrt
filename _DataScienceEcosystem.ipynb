{
 "cells": [
  {
   "cell_type": "markdown",
   "id": "51d42469",
   "metadata": {},
   "source": [
    "# Data Science Tools and Ecosystem"
   ]
  },
  {
   "cell_type": "markdown",
   "id": "c31755ec",
   "metadata": {},
   "source": [
    "In this notebook, Data Science Tools and Ecosystem are summarized."
   ]
  },
  {
   "cell_type": "markdown",
   "id": "7eeefbf6",
   "metadata": {},
   "source": [
    "**Objectives:**\n",
    "common python libraries\n",
    "* Pandas\n",
    "* Pytorch \n",
    "* Numpy"
   ]
  },
  {
   "cell_type": "markdown",
   "id": "05c0c04c",
   "metadata": {},
   "source": [
    "Some of the popular languages that Data Scientists use are:\n",
    "1. python\n",
    "2. R\n",
    "3. C++"
   ]
  },
  {
   "cell_type": "markdown",
   "id": "6d9d5eff",
   "metadata": {},
   "source": [
    "Some of the commonly used libraries used by Data Scientists include:\n",
    "1. NumPy\n",
    "2. PyTorch\n",
    "3. TanserFlow"
   ]
  },
  {
   "cell_type": "markdown",
   "id": "ad627b84",
   "metadata": {},
   "source": [
    "|Data Science Tools|\n",
    "|-----------------|\n",
    "|Jupyter Notebook|\n",
    "|RStduio|\n",
    "|Spyder|"
   ]
  },
  {
   "cell_type": "markdown",
   "id": "41d1865b",
   "metadata": {},
   "source": [
    "### arithmetic expression examples\n",
    "\n",
    "Below are a few examples of evaluating arithmetic expressions in Python:\n",
    "* +:sum\n",
    "* -:minus\n",
    "* *:multiplication\n",
    "* / :division\n",
    "* % :modulo\n"
   ]
  },
  {
   "cell_type": "code",
   "execution_count": 11,
   "id": "d679ec1e",
   "metadata": {},
   "outputs": [
    {
     "data": {
      "text/plain": [
       "17"
      ]
     },
     "execution_count": 11,
     "metadata": {},
     "output_type": "execute_result"
    }
   ],
   "source": [
    "# This a simple arithmetic expression to mutiply then add integers.\n",
    "(3*4)+5"
   ]
  },
  {
   "cell_type": "code",
   "execution_count": 12,
   "id": "80dbf0ec",
   "metadata": {},
   "outputs": [
    {
     "data": {
      "text/plain": [
       "3.3333333333333335"
      ]
     },
     "execution_count": 12,
     "metadata": {},
     "output_type": "execute_result"
    }
   ],
   "source": [
    "# This will convert 200 minutes to hours by diving by 60.\n",
    "200/60"
   ]
  },
  {
   "cell_type": "markdown",
   "id": "51a00b62",
   "metadata": {},
   "source": [
    "## Author\n",
    "Muhammet Emin Yaylı\n"
   ]
  },
  {
   "cell_type": "code",
   "execution_count": null,
   "id": "6a7d3d40",
   "metadata": {},
   "outputs": [],
   "source": []
  }
 ],
 "metadata": {
  "kernelspec": {
   "display_name": "Python 3 (ipykernel)",
   "language": "python",
   "name": "python3"
  },
  "language_info": {
   "codemirror_mode": {
    "name": "ipython",
    "version": 3
   },
   "file_extension": ".py",
   "mimetype": "text/x-python",
   "name": "python",
   "nbconvert_exporter": "python",
   "pygments_lexer": "ipython3",
   "version": "3.11.3"
  }
 },
 "nbformat": 4,
 "nbformat_minor": 5
}
